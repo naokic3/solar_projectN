{
 "cells": [
  {
   "cell_type": "code",
   "execution_count": 93,
   "metadata": {},
   "outputs": [],
   "source": [
    "from pvodataset import PVODataset, UDFClass, QCfunc\n",
    "import pandas as pd"
   ]
  },
  {
   "cell_type": "code",
   "execution_count": 94,
   "metadata": {},
   "outputs": [
    {
     "name": "stdout",
     "output_type": "stream",
     "text": [
      "Welcome to PVODataset (PVOD).\n"
     ]
    },
    {
     "data": {
      "text/html": [
       "<div>\n",
       "<style scoped>\n",
       "    .dataframe tbody tr th:only-of-type {\n",
       "        vertical-align: middle;\n",
       "    }\n",
       "\n",
       "    .dataframe tbody tr th {\n",
       "        vertical-align: top;\n",
       "    }\n",
       "\n",
       "    .dataframe thead th {\n",
       "        text-align: right;\n",
       "    }\n",
       "</style>\n",
       "<table border=\"1\" class=\"dataframe\">\n",
       "  <thead>\n",
       "    <tr style=\"text-align: right;\">\n",
       "      <th></th>\n",
       "      <th>Station_ID</th>\n",
       "      <th>Capacity</th>\n",
       "      <th>PV_Technology</th>\n",
       "      <th>Panel_Size</th>\n",
       "      <th>Module</th>\n",
       "      <th>Inverters</th>\n",
       "      <th>Layout</th>\n",
       "      <th>Panel_Number</th>\n",
       "      <th>Array_Tilt</th>\n",
       "      <th>Pyranometer</th>\n",
       "      <th>Longitude</th>\n",
       "      <th>Latitude</th>\n",
       "    </tr>\n",
       "  </thead>\n",
       "  <tbody>\n",
       "    <tr>\n",
       "      <th>0</th>\n",
       "      <td>station00</td>\n",
       "      <td>6600</td>\n",
       "      <td>Poly-Si</td>\n",
       "      <td>1.62360</td>\n",
       "      <td>products types:LW255(29)P1640×990\\r\\nPmax:255 ...</td>\n",
       "      <td>products types:NSG-500K3TL\\r\\nMax. DC input:56...</td>\n",
       "      <td>modules per string:20\\r\\nstrings per inverter:96</td>\n",
       "      <td>26000</td>\n",
       "      <td>South 33°</td>\n",
       "      <td>GHI: \\r\\nproducts types: TBQ-2\\r\\nmeasurement ...</td>\n",
       "      <td>114.951390</td>\n",
       "      <td>38.047780</td>\n",
       "    </tr>\n",
       "    <tr>\n",
       "      <th>1</th>\n",
       "      <td>station01</td>\n",
       "      <td>20000</td>\n",
       "      <td>Poly-Si</td>\n",
       "      <td>1.66350</td>\n",
       "      <td>products types:LW6P60-270\\r\\nPmax:270 Wp\\r\\nVm...</td>\n",
       "      <td>products types:TC500KH\\r\\nMax. DC input:618 kW...</td>\n",
       "      <td>modules per string:22\\r\\nstrings per inverter:128</td>\n",
       "      <td>74000</td>\n",
       "      <td>South 33°</td>\n",
       "      <td>GHI: \\r\\nproducts types: TBQ-2\\r\\nmeasurement ...</td>\n",
       "      <td>117.457220</td>\n",
       "      <td>38.183060</td>\n",
       "    </tr>\n",
       "    <tr>\n",
       "      <th>2</th>\n",
       "      <td>station02</td>\n",
       "      <td>17000</td>\n",
       "      <td>Mono-Si</td>\n",
       "      <td>1.63680</td>\n",
       "      <td>products types:RSM60-6-285M\\r\\nPmax:285 Wp\\r\\n...</td>\n",
       "      <td>products types:SG50KTL-M\\r\\nMax. DC input:-\\r\\...</td>\n",
       "      <td>modules per string:22\\r\\nstrings per inverter:8</td>\n",
       "      <td>64064</td>\n",
       "      <td>South 29°</td>\n",
       "      <td>GHI: \\r\\nproducts types: TBQ-2\\r\\nmeasurement ...</td>\n",
       "      <td>114.198870</td>\n",
       "      <td>38.057280</td>\n",
       "    </tr>\n",
       "    <tr>\n",
       "      <th>3</th>\n",
       "      <td>station03</td>\n",
       "      <td>20000</td>\n",
       "      <td>Poly-Si</td>\n",
       "      <td>1.62000</td>\n",
       "      <td>products types:HTMP265P4-60\\r\\nPmax:265 Wp\\r\\n...</td>\n",
       "      <td>products types:PVL-L1000E\\r\\nMax. DC input:-\\r...</td>\n",
       "      <td>modules per string:22\\r\\nstrings per inverter:16</td>\n",
       "      <td>75460</td>\n",
       "      <td>South 33°</td>\n",
       "      <td>GHI: \\r\\nproducts types: TBQ-2L\\r\\nmeasurement...</td>\n",
       "      <td>114.114940</td>\n",
       "      <td>38.109560</td>\n",
       "    </tr>\n",
       "    <tr>\n",
       "      <th>4</th>\n",
       "      <td>station04</td>\n",
       "      <td>20000</td>\n",
       "      <td>Poly-Si</td>\n",
       "      <td>1.63680</td>\n",
       "      <td>products types:YL265P-29b\\r\\nPmax:265 Wp\\r\\nVm...</td>\n",
       "      <td>products types:SG1000\\r\\nMax. DC input:560 kW\\...</td>\n",
       "      <td>modules per string:22\\r\\nstrings per inverter:86</td>\n",
       "      <td>75680</td>\n",
       "      <td>South 37°</td>\n",
       "      <td>GHI: \\r\\nproducts types: TBQ-2\\r\\nmeasurement ...</td>\n",
       "      <td>114.867670</td>\n",
       "      <td>39.515500</td>\n",
       "    </tr>\n",
       "    <tr>\n",
       "      <th>5</th>\n",
       "      <td>station05</td>\n",
       "      <td>35000</td>\n",
       "      <td>Poly-Si</td>\n",
       "      <td>1.63515</td>\n",
       "      <td>products types:LR6-60-305M\\r\\nPmax:305 Wp\\r\\nV...</td>\n",
       "      <td>products types:SG1250UD\\r\\nMax. DC input:618 k...</td>\n",
       "      <td>modules per string:22\\r\\nstrings per inverter:160</td>\n",
       "      <td>114972</td>\n",
       "      <td>South 33°</td>\n",
       "      <td>GHI: \\r\\nproducts types: TBQ-2\\r\\nmeasurement ...</td>\n",
       "      <td>114.123600</td>\n",
       "      <td>38.235500</td>\n",
       "    </tr>\n",
       "    <tr>\n",
       "      <th>6</th>\n",
       "      <td>station06</td>\n",
       "      <td>15000</td>\n",
       "      <td>Poly-Si</td>\n",
       "      <td>1.63350</td>\n",
       "      <td>products types:JAP60S01-270/SC\\r\\nPmax:270 Wp\\...</td>\n",
       "      <td>products types:SG50KTL-M\\r\\nMax. DC input:-\\r\\...</td>\n",
       "      <td>modules per string:24\\r\\nstrings per inverter:8</td>\n",
       "      <td>56608</td>\n",
       "      <td>South 34°</td>\n",
       "      <td>GHI: \\r\\nproducts types: TBQ-2\\r\\nmeasurement ...</td>\n",
       "      <td>114.548410</td>\n",
       "      <td>36.898910</td>\n",
       "    </tr>\n",
       "    <tr>\n",
       "      <th>7</th>\n",
       "      <td>station07</td>\n",
       "      <td>20000</td>\n",
       "      <td>Poly-Si</td>\n",
       "      <td>1.63350</td>\n",
       "      <td>products types:YL250P-29b\\r\\nPmax:250 Wp\\r\\nVm...</td>\n",
       "      <td>products types:TC500KH\\r\\nMax. DC input:618 kW...</td>\n",
       "      <td>modules per string:20\\r\\nstrings per inverter:100</td>\n",
       "      <td>80000</td>\n",
       "      <td>South 31°</td>\n",
       "      <td>GHI: \\r\\nproducts types: TBQ-2L\\r\\nmeasurement...</td>\n",
       "      <td>113.641870</td>\n",
       "      <td>36.644030</td>\n",
       "    </tr>\n",
       "    <tr>\n",
       "      <th>8</th>\n",
       "      <td>station08</td>\n",
       "      <td>20000</td>\n",
       "      <td>Poly-Si</td>\n",
       "      <td>1.63350</td>\n",
       "      <td>products types:YL265C-30b\\r\\nPmax:265 Wp\\r\\nVm...</td>\n",
       "      <td>products types:SUN2000-40KTL\\r\\nMax. DC input:...</td>\n",
       "      <td>modules per string:22\\r\\nstrings per inverter:5</td>\n",
       "      <td>78042</td>\n",
       "      <td>South 33°</td>\n",
       "      <td>GHI: \\r\\nproducts types: TBQ-2\\r\\nmeasurement ...</td>\n",
       "      <td>113.899990</td>\n",
       "      <td>36.707610</td>\n",
       "    </tr>\n",
       "    <tr>\n",
       "      <th>9</th>\n",
       "      <td>station09</td>\n",
       "      <td>20000</td>\n",
       "      <td>Poly-Si</td>\n",
       "      <td>1.61370</td>\n",
       "      <td>products types:YL265P-29B-265W\\r\\nPmax:265 Wp\\...</td>\n",
       "      <td>products types:GSL0630T\\r\\nMax. DC input:690 k...</td>\n",
       "      <td>modules per string:24\\r\\nstrings per inverter:128</td>\n",
       "      <td>84480</td>\n",
       "      <td>South 31°</td>\n",
       "      <td>GHI: \\r\\nproducts types: TBQ-2\\r\\nmeasurement ...</td>\n",
       "      <td>115.059855</td>\n",
       "      <td>38.731417</td>\n",
       "    </tr>\n",
       "  </tbody>\n",
       "</table>\n",
       "</div>"
      ],
      "text/plain": [
       "  Station_ID  Capacity PV_Technology  Panel_Size  \\\n",
       "0  station00      6600       Poly-Si     1.62360   \n",
       "1  station01     20000       Poly-Si     1.66350   \n",
       "2  station02     17000       Mono-Si     1.63680   \n",
       "3  station03     20000       Poly-Si     1.62000   \n",
       "4  station04     20000       Poly-Si     1.63680   \n",
       "5  station05     35000       Poly-Si     1.63515   \n",
       "6  station06     15000       Poly-Si     1.63350   \n",
       "7  station07     20000       Poly-Si     1.63350   \n",
       "8  station08     20000       Poly-Si     1.63350   \n",
       "9  station09     20000       Poly-Si     1.61370   \n",
       "\n",
       "                                              Module  \\\n",
       "0  products types:LW255(29)P1640×990\\r\\nPmax:255 ...   \n",
       "1  products types:LW6P60-270\\r\\nPmax:270 Wp\\r\\nVm...   \n",
       "2  products types:RSM60-6-285M\\r\\nPmax:285 Wp\\r\\n...   \n",
       "3  products types:HTMP265P4-60\\r\\nPmax:265 Wp\\r\\n...   \n",
       "4  products types:YL265P-29b\\r\\nPmax:265 Wp\\r\\nVm...   \n",
       "5  products types:LR6-60-305M\\r\\nPmax:305 Wp\\r\\nV...   \n",
       "6  products types:JAP60S01-270/SC\\r\\nPmax:270 Wp\\...   \n",
       "7  products types:YL250P-29b\\r\\nPmax:250 Wp\\r\\nVm...   \n",
       "8  products types:YL265C-30b\\r\\nPmax:265 Wp\\r\\nVm...   \n",
       "9  products types:YL265P-29B-265W\\r\\nPmax:265 Wp\\...   \n",
       "\n",
       "                                           Inverters  \\\n",
       "0  products types:NSG-500K3TL\\r\\nMax. DC input:56...   \n",
       "1  products types:TC500KH\\r\\nMax. DC input:618 kW...   \n",
       "2  products types:SG50KTL-M\\r\\nMax. DC input:-\\r\\...   \n",
       "3  products types:PVL-L1000E\\r\\nMax. DC input:-\\r...   \n",
       "4  products types:SG1000\\r\\nMax. DC input:560 kW\\...   \n",
       "5  products types:SG1250UD\\r\\nMax. DC input:618 k...   \n",
       "6  products types:SG50KTL-M\\r\\nMax. DC input:-\\r\\...   \n",
       "7  products types:TC500KH\\r\\nMax. DC input:618 kW...   \n",
       "8  products types:SUN2000-40KTL\\r\\nMax. DC input:...   \n",
       "9  products types:GSL0630T\\r\\nMax. DC input:690 k...   \n",
       "\n",
       "                                              Layout  Panel_Number Array_Tilt  \\\n",
       "0   modules per string:20\\r\\nstrings per inverter:96         26000  South 33°   \n",
       "1  modules per string:22\\r\\nstrings per inverter:128         74000  South 33°   \n",
       "2    modules per string:22\\r\\nstrings per inverter:8         64064  South 29°   \n",
       "3   modules per string:22\\r\\nstrings per inverter:16         75460  South 33°   \n",
       "4   modules per string:22\\r\\nstrings per inverter:86         75680  South 37°   \n",
       "5  modules per string:22\\r\\nstrings per inverter:160        114972  South 33°   \n",
       "6    modules per string:24\\r\\nstrings per inverter:8         56608  South 34°   \n",
       "7  modules per string:20\\r\\nstrings per inverter:100         80000  South 31°   \n",
       "8    modules per string:22\\r\\nstrings per inverter:5         78042  South 33°   \n",
       "9  modules per string:24\\r\\nstrings per inverter:128         84480  South 31°   \n",
       "\n",
       "                                         Pyranometer   Longitude   Latitude  \n",
       "0  GHI: \\r\\nproducts types: TBQ-2\\r\\nmeasurement ...  114.951390  38.047780  \n",
       "1  GHI: \\r\\nproducts types: TBQ-2\\r\\nmeasurement ...  117.457220  38.183060  \n",
       "2  GHI: \\r\\nproducts types: TBQ-2\\r\\nmeasurement ...  114.198870  38.057280  \n",
       "3  GHI: \\r\\nproducts types: TBQ-2L\\r\\nmeasurement...  114.114940  38.109560  \n",
       "4  GHI: \\r\\nproducts types: TBQ-2\\r\\nmeasurement ...  114.867670  39.515500  \n",
       "5  GHI: \\r\\nproducts types: TBQ-2\\r\\nmeasurement ...  114.123600  38.235500  \n",
       "6  GHI: \\r\\nproducts types: TBQ-2\\r\\nmeasurement ...  114.548410  36.898910  \n",
       "7  GHI: \\r\\nproducts types: TBQ-2L\\r\\nmeasurement...  113.641870  36.644030  \n",
       "8  GHI: \\r\\nproducts types: TBQ-2\\r\\nmeasurement ...  113.899990  36.707610  \n",
       "9  GHI: \\r\\nproducts types: TBQ-2\\r\\nmeasurement ...  115.059855  38.731417  "
      ]
     },
     "execution_count": 94,
     "metadata": {},
     "output_type": "execute_result"
    }
   ],
   "source": [
    "pvod = PVODataset(path=\"../datasets/\",timezone=\"UTC+8\")\n",
    "meta_data = pvod.read_metadata()\n",
    "meta_data"
   ]
  },
  {
   "cell_type": "code",
   "execution_count": 95,
   "metadata": {},
   "outputs": [
    {
     "name": "stdout",
     "output_type": "stream",
     "text": [
      "<class 'pandas.core.frame.DataFrame'>\n",
      "DatetimeIndex: 28896 entries, 2018-08-16 00:00:00+08:00 to 2019-06-13 23:45:00+08:00\n",
      "Data columns (total 14 columns):\n",
      " #   Column             Non-Null Count  Dtype  \n",
      "---  ------             --------------  -----  \n",
      " 0   nwp_globalirrad    28896 non-null  float64\n",
      " 1   nwp_directirrad    28896 non-null  float64\n",
      " 2   nwp_temperature    28896 non-null  float64\n",
      " 3   nwp_humidity       28896 non-null  float64\n",
      " 4   nwp_windspeed      28896 non-null  float64\n",
      " 5   nwp_winddirection  28896 non-null  float64\n",
      " 6   nwp_pressure       28896 non-null  float64\n",
      " 7   lmd_totalirrad     28896 non-null  int64  \n",
      " 8   lmd_diffuseirrad   28896 non-null  int64  \n",
      " 9   lmd_temperature    28896 non-null  float64\n",
      " 10  lmd_pressure       28896 non-null  float64\n",
      " 11  lmd_winddirection  28896 non-null  int64  \n",
      " 12  lmd_windspeed      28896 non-null  float64\n",
      " 13  power              28896 non-null  float64\n",
      "dtypes: float64(11), int64(3)\n",
      "memory usage: 3.3 MB\n"
     ]
    }
   ],
   "source": [
    "ori_data_0 = pvod.read_ori_data(station_id=0)\n",
    "ori_data_0.set_index(\"date_time\", inplace=True)\n",
    "ori_data_0.info()"
   ]
  },
  {
   "cell_type": "code",
   "execution_count": 96,
   "metadata": {},
   "outputs": [],
   "source": [
    "import pvlib\n",
    "from pvlib import location\n",
    "from pvlib import pvsystem\n",
    "from pvlib.pvsystem import PVSystem\n",
    "from pvlib import modelchain\n",
    "from pvlib.modelchain import ModelChain\n",
    "from pvlib.temperature import TEMPERATURE_MODEL_PARAMETERS\n",
    "\n",
    "\n",
    "\n",
    "\n",
    "import pandas as pd\n",
    "import matplotlib.pyplot as plt\n",
    "import numpy as np\n"
   ]
  },
  {
   "cell_type": "code",
   "execution_count": null,
   "metadata": {},
   "outputs": [],
   "source": []
  },
  {
   "cell_type": "code",
   "execution_count": null,
   "metadata": {},
   "outputs": [
    {
     "ename": "UnknownTimeZoneError",
     "evalue": "'UTC+8'",
     "output_type": "error",
     "traceback": [
      "\u001b[1;31m---------------------------------------------------------------------------\u001b[0m",
      "\u001b[1;31mUnknownTimeZoneError\u001b[0m                      Traceback (most recent call last)",
      "Cell \u001b[1;32mIn[111], line 11\u001b[0m\n\u001b[0;32m      8\u001b[0m inverter_parameters \u001b[38;5;241m=\u001b[39m ivt_para\n\u001b[0;32m     10\u001b[0m lat, lon \u001b[38;5;241m=\u001b[39m \u001b[38;5;241m38.047780\u001b[39m, \u001b[38;5;241m114.951390\u001b[39m\n\u001b[1;32m---> 11\u001b[0m site \u001b[38;5;241m=\u001b[39m \u001b[43mlocation\u001b[49m\u001b[38;5;241;43m.\u001b[39;49m\u001b[43mLocation\u001b[49m\u001b[43m(\u001b[49m\u001b[43mlat\u001b[49m\u001b[43m,\u001b[49m\u001b[43m \u001b[49m\u001b[43mlon\u001b[49m\u001b[43m,\u001b[49m\u001b[43m \u001b[49m\u001b[43mtz\u001b[49m\u001b[38;5;241;43m=\u001b[39;49m\u001b[38;5;124;43m'\u001b[39;49m\u001b[38;5;124;43mUTC+8\u001b[39;49m\u001b[38;5;124;43m'\u001b[39;49m\u001b[43m)\u001b[49m\n",
      "File \u001b[1;32mc:\\Users\\naoki\\miniforge3\\Lib\\site-packages\\pvlib\\location.py:70\u001b[0m, in \u001b[0;36mLocation.__init__\u001b[1;34m(self, latitude, longitude, tz, altitude, name)\u001b[0m\n\u001b[0;32m     68\u001b[0m \u001b[38;5;28;01mif\u001b[39;00m \u001b[38;5;28misinstance\u001b[39m(tz, \u001b[38;5;28mstr\u001b[39m):\n\u001b[0;32m     69\u001b[0m     \u001b[38;5;28mself\u001b[39m\u001b[38;5;241m.\u001b[39mtz \u001b[38;5;241m=\u001b[39m tz\n\u001b[1;32m---> 70\u001b[0m     \u001b[38;5;28mself\u001b[39m\u001b[38;5;241m.\u001b[39mpytz \u001b[38;5;241m=\u001b[39m \u001b[43mpytz\u001b[49m\u001b[38;5;241;43m.\u001b[39;49m\u001b[43mtimezone\u001b[49m\u001b[43m(\u001b[49m\u001b[43mtz\u001b[49m\u001b[43m)\u001b[49m\n\u001b[0;32m     71\u001b[0m \u001b[38;5;28;01melif\u001b[39;00m \u001b[38;5;28misinstance\u001b[39m(tz, datetime\u001b[38;5;241m.\u001b[39mtimezone):\n\u001b[0;32m     72\u001b[0m     \u001b[38;5;28mself\u001b[39m\u001b[38;5;241m.\u001b[39mtz \u001b[38;5;241m=\u001b[39m \u001b[38;5;124m'\u001b[39m\u001b[38;5;124mUTC\u001b[39m\u001b[38;5;124m'\u001b[39m\n",
      "File \u001b[1;32mc:\\Users\\naoki\\miniforge3\\Lib\\site-packages\\pytz\\__init__.py:188\u001b[0m, in \u001b[0;36mtimezone\u001b[1;34m(zone)\u001b[0m\n\u001b[0;32m    186\u001b[0m             fp\u001b[38;5;241m.\u001b[39mclose()\n\u001b[0;32m    187\u001b[0m     \u001b[38;5;28;01melse\u001b[39;00m:\n\u001b[1;32m--> 188\u001b[0m         \u001b[38;5;28;01mraise\u001b[39;00m UnknownTimeZoneError(zone)\n\u001b[0;32m    190\u001b[0m \u001b[38;5;28;01mreturn\u001b[39;00m _tzinfo_cache[zone]\n",
      "\u001b[1;31mUnknownTimeZoneError\u001b[0m: 'UTC+8'"
     ]
    }
   ],
   "source": [
    "temperature_model_parameters = TEMPERATURE_MODEL_PARAMETERS['sapm']['open_rack_glass_glass']\n",
    "\n",
    "module_parameters = pvsystem.retrieve_sam('CECMod')['Yingli_Energy__China__YL250P_29b']\n",
    "\n",
    "ivt_para = pvsystem.retrieve_sam('cecinverter')['Advanced_Energy_Industries__Solaron_500kW__3159500_XXXX___480V_']\n",
    "ivt_para[\"Pdco\"], ivt_para['Vdco'], ivt_para[\"Vdcmax\"], ivt_para['Idcmax'], = 567000, 315, 1000, 1134\n",
    "ivt_para[\"Mppt_low\"], ivt_para['Mppt_high'] = 460, 950\n",
    "inverter_parameters = ivt_para\n",
    "\n",
    "lat, lon = 38.047780, 114.951390\n",
    "site = location.Location(lat, lon, tz='UTC')"
   ]
  },
  {
   "cell_type": "code",
   "execution_count": 99,
   "metadata": {},
   "outputs": [],
   "source": [
    "system = PVSystem(surface_tilt=33, surface_azimuth=180,\n",
    "                          module_parameters=module_parameters,\n",
    "                          inverter_parameters=inverter_parameters,\n",
    "                          modules_per_string=20, strings_per_inverter=100,\n",
    "                          temperature_model_parameters=temperature_model_parameters)"
   ]
  },
  {
   "cell_type": "code",
   "execution_count": 100,
   "metadata": {},
   "outputs": [],
   "source": [
    "mc = ModelChain(system, site, transposition_model='perez',\n",
    "                        solar_position_method='nrel_numpy',\n",
    "                        aoi_model='physical', spectral_model='no_loss')"
   ]
  },
  {
   "cell_type": "code",
   "execution_count": 101,
   "metadata": {},
   "outputs": [],
   "source": [
    "irradiance_df = ori_data_0[['nwp_directirrad', 'nwp_globalirrad', 'lmd_diffuseirrad']]\n",
    "ori_data_0 = ori_data_0.rename(columns={\n",
    "    'nwp_directirrad': 'dni',\n",
    "    'nwp_globalirrad': 'ghi',\n",
    "    'lmd_diffuseirrad': 'dhi'\n",
    "})\n"
   ]
  },
  {
   "cell_type": "code",
   "execution_count": 102,
   "metadata": {},
   "outputs": [],
   "source": [
    "results = mc.run_model(weather = ori_data_0)"
   ]
  },
  {
   "cell_type": "code",
   "execution_count": null,
   "metadata": {},
   "outputs": [],
   "source": [
    "all_ac = results.results.dc"
   ]
  },
  {
   "cell_type": "code",
   "execution_count": 115,
   "metadata": {},
   "outputs": [
    {
     "data": {
      "text/plain": [
       "<Axes: xlabel='date_time'>"
      ]
     },
     "execution_count": 115,
     "metadata": {},
     "output_type": "execute_result"
    },
    {
     "data": {
      "image/png": "[encoded data removed]",
      "text/plain": [
       "<Figure size 640x480 with 1 Axes>"
      ]
     },
     "metadata": {},
     "output_type": "display_data"
    }
   ],
   "source": [
    "all_ac.plot()"
   ]
  },
  {
   "cell_type": "code",
   "execution_count": null,
   "metadata": {},
   "outputs": [
    {
     "data": {
      "text/plain": [
       "date_time\n",
       "2018-08-16 00:00:00+08:00   -150.0\n",
       "2018-08-16 00:15:00+08:00   -150.0\n",
       "2018-08-16 00:30:00+08:00   -150.0\n",
       "2018-08-16 00:45:00+08:00   -150.0\n",
       "2018-08-16 01:00:00+08:00   -150.0\n",
       "                             ...  \n",
       "2018-08-20 02:45:00+08:00   -150.0\n",
       "2018-08-20 03:00:00+08:00   -150.0\n",
       "2018-08-20 03:15:00+08:00   -150.0\n",
       "2018-08-20 03:30:00+08:00   -150.0\n",
       "2018-08-20 03:45:00+08:00   -150.0\n",
       "Length: 400, dtype: float64"
      ]
     },
     "execution_count": 110,
     "metadata": {},
     "output_type": "execute_result"
    }
   ],
   "source": []
  },
  {
   "cell_type": "code",
   "execution_count": null,
   "metadata": {},
   "outputs": [],
   "source": []
  }
 ],
 "metadata": {
  "kernelspec": {
   "display_name": "base",
   "language": "python",
   "name": "python3"
  },
  "language_info": {
   "codemirror_mode": {
    "name": "ipython",
    "version": 3
   },
   "file_extension": ".py",
   "mimetype": "text/x-python",
   "name": "python",
   "nbconvert_exporter": "python",
   "pygments_lexer": "ipython3",
   "version": "3.12.5"
  }
 },
 "nbformat": 4,
 "nbformat_minor": 2
}
