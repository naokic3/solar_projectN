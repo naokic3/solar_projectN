{
 "cells": [
  {
   "cell_type": "markdown",
   "metadata": {},
   "source": [
    "## PV power output dataset\n",
    "\n",
    "https://www.sciencedirect.com/science/article/abs/pii/S0038092X21008070"
   ]
  },
  {
   "cell_type": "markdown",
   "metadata": {},
   "source": [
    "\n",
    "Need to further downlaod the dataset here: https://www.scidb.cn/en/detail?dataSetId=f8f3d7af144f441795c5781497e56b62\n",
    "Tiechui Yao, Jue Wang, Haoyan Wu, et al. PVOD v1.0 : A photovoltaic power output dataset[DS/OL]. V4. Science Data Bank, 2021[2024-11-15]. https://cstr.cn/31253.11.sciencedb.01094. CSTR:31253.11.sciencedb.01094.\n",
    "\n",
    "PVOD has total 271,968 records and is constructed from two data sources with a 15-min interval, namely, Numerical Weather Prediction (NWP) from meteorological service and Local Measurements Data (LMD) from PV power stations.\n",
    "\n",
    "NWP includes 7 features, i.e., global irradiance, direct irradiance, temperature, humidity, wind speed, wind direction, and pressure.\n",
    "\n",
    "Local Measurements Data includes 7 features, i.e., global irradiance, diffuse irradiance, temperature, pressure, wind direction, wind speed, and photovoltaic output records."
   ]
  },
  {
   "cell_type": "code",
   "execution_count": 15,
   "metadata": {},
   "outputs": [],
   "source": [
    "import Demo_Kpv\n",
    "import pandas as pd"
   ]
  },
  {
   "cell_type": "code",
   "execution_count": 16,
   "metadata": {},
   "outputs": [
    {
     "name": "stdout",
     "output_type": "stream",
     "text": [
      "Welcome to PVODataset (PVOD).\n",
      "UTC+8\n"
     ]
    },
    {
     "data": {
      "text/plain": [
       "<Demo_Kpv.demo_K_PV at 0x2a44f5bd5e0>"
      ]
     },
     "execution_count": 16,
     "metadata": {},
     "output_type": "execute_result"
    }
   ],
   "source": [
    "kpv = Demo_Kpv.demo_K_PV(timezone=\"UTC+8\")\n",
    "kpv"
   ]
  },
  {
   "cell_type": "code",
   "execution_count": 17,
   "metadata": {},
   "outputs": [
    {
     "data": {
      "text/plain": [
       "Index(['date_time', 'nwp_globalirrad', 'nwp_directirrad', 'nwp_temperature',\n",
       "       'nwp_humidity', 'nwp_windspeed', 'nwp_winddirection', 'nwp_pressure',\n",
       "       'lmd_totalirrad', 'lmd_diffuseirrad', 'lmd_temperature', 'lmd_pressure',\n",
       "       'lmd_winddirection', 'lmd_windspeed', 'power'],\n",
       "      dtype='object')"
      ]
     },
     "execution_count": 17,
     "metadata": {},
     "output_type": "execute_result"
    }
   ],
   "source": [
    "t1 = '2019/3/17 00:00'\n",
    "t2 = '2019/3/19 00:00'\n",
    "ori_data = kpv.select_daterange(station_id=7, start_date=t1, end_date=t2)\n",
    "ori_data.keys()\n"
   ]
  },
  {
   "cell_type": "code",
   "execution_count": 20,
   "metadata": {},
   "outputs": [
    {
     "ename": "TypeError",
     "evalue": "ModelChain.__init__() got an unexpected keyword argument 'orientation_strategy'",
     "output_type": "error",
     "traceback": [
      "\u001b[1;31m---------------------------------------------------------------------------\u001b[0m",
      "\u001b[1;31mTypeError\u001b[0m                                 Traceback (most recent call last)",
      "Cell \u001b[1;32mIn[20], line 1\u001b[0m\n\u001b[1;32m----> 1\u001b[0m v_kpv, v_ac, v_power, v_time \u001b[38;5;241m=\u001b[39m  \u001b[43mkpv\u001b[49m\u001b[38;5;241;43m.\u001b[39;49m\u001b[43mrange_calc_KPV\u001b[49m\u001b[43m(\u001b[49m\u001b[43mori_data\u001b[49m\u001b[38;5;241;43m=\u001b[39;49m\u001b[43mori_data\u001b[49m\u001b[43m,\u001b[49m\u001b[43m \u001b[49m\u001b[43mstart\u001b[49m\u001b[38;5;241;43m=\u001b[39;49m\u001b[38;5;241;43m0\u001b[39;49m\u001b[43m,\u001b[49m\u001b[43m \u001b[49m\u001b[43mend\u001b[49m\u001b[38;5;241;43m=\u001b[39;49m\u001b[38;5;28;43mlen\u001b[39;49m\u001b[43m(\u001b[49m\u001b[43mori_data\u001b[49m\u001b[43m)\u001b[49m\u001b[43m)\u001b[49m\n",
      "File \u001b[1;32mc:\\Users\\naoki\\code\\solar_projectN\\PVODataset\\src\\Demo_Kpv.py:107\u001b[0m, in \u001b[0;36mdemo_K_PV.range_calc_KPV\u001b[1;34m(self, ori_data, start, end)\u001b[0m\n\u001b[0;32m    104\u001b[0m \u001b[38;5;66;03m# 24 h ( 15m resolution) = 24 * 6 = 96 timesteps \u001b[39;00m\n\u001b[0;32m    106\u001b[0m tmp_time \u001b[38;5;241m=\u001b[39m [datet[i] \u001b[38;5;28;01mfor\u001b[39;00m i \u001b[38;5;129;01min\u001b[39;00m \u001b[38;5;28mlist\u001b[39m(\u001b[38;5;28mrange\u001b[39m(start, end, \u001b[38;5;241m96\u001b[39m))]\n\u001b[1;32m--> 107\u001b[0m mc  \u001b[38;5;241m=\u001b[39m \u001b[38;5;28;43mself\u001b[39;49m\u001b[38;5;241;43m.\u001b[39;49m\u001b[43minit_PV_sys\u001b[49m\u001b[43m(\u001b[49m\u001b[43m)\u001b[49m\n\u001b[0;32m    108\u001b[0m K_pv \u001b[38;5;241m=\u001b[39m []\n\u001b[0;32m    109\u001b[0m K_pv, pltac\u001b[38;5;241m=\u001b[39m [], []\n",
      "File \u001b[1;32mc:\\Users\\naoki\\code\\solar_projectN\\PVODataset\\src\\Demo_Kpv.py:68\u001b[0m, in \u001b[0;36mdemo_K_PV.init_PV_sys\u001b[1;34m(self)\u001b[0m\n\u001b[0;32m     65\u001b[0m lat, lon \u001b[38;5;241m=\u001b[39m \u001b[38;5;241m36.64403\u001b[39m, \u001b[38;5;241m113.64187\u001b[39m \u001b[38;5;66;03m# S7 \u001b[39;00m\n\u001b[0;32m     66\u001b[0m site \u001b[38;5;241m=\u001b[39m location\u001b[38;5;241m.\u001b[39mLocation(lat, lon, tz\u001b[38;5;241m=\u001b[39m\u001b[38;5;124m'\u001b[39m\u001b[38;5;124mUTC\u001b[39m\u001b[38;5;124m'\u001b[39m)\n\u001b[1;32m---> 68\u001b[0m mc \u001b[38;5;241m=\u001b[39m \u001b[43mModelChain\u001b[49m\u001b[43m(\u001b[49m\u001b[43msystem\u001b[49m\u001b[43m,\u001b[49m\u001b[43m \u001b[49m\u001b[43msite\u001b[49m\u001b[43m,\u001b[49m\u001b[43m \u001b[49m\u001b[43mtransposition_model\u001b[49m\u001b[38;5;241;43m=\u001b[39;49m\u001b[38;5;124;43m'\u001b[39;49m\u001b[38;5;124;43mperez\u001b[39;49m\u001b[38;5;124;43m'\u001b[39;49m\u001b[43m,\u001b[49m\n\u001b[0;32m     69\u001b[0m \u001b[43m                \u001b[49m\u001b[43msolar_position_method\u001b[49m\u001b[38;5;241;43m=\u001b[39;49m\u001b[38;5;124;43m'\u001b[39;49m\u001b[38;5;124;43mnrel_numpy\u001b[39;49m\u001b[38;5;124;43m'\u001b[39;49m\u001b[43m,\u001b[49m\n\u001b[0;32m     70\u001b[0m \u001b[43m                \u001b[49m\u001b[43morientation_strategy\u001b[49m\u001b[38;5;241;43m=\u001b[39;49m\u001b[38;5;124;43m'\u001b[39;49m\u001b[38;5;124;43msouth_at_latitude_tilt\u001b[39;49m\u001b[38;5;124;43m'\u001b[39;49m\u001b[43m,\u001b[49m\n\u001b[0;32m     71\u001b[0m \u001b[43m                \u001b[49m\u001b[43maoi_model\u001b[49m\u001b[38;5;241;43m=\u001b[39;49m\u001b[38;5;124;43m'\u001b[39;49m\u001b[38;5;124;43mphysical\u001b[39;49m\u001b[38;5;124;43m'\u001b[39;49m\u001b[43m,\u001b[49m\u001b[43m \u001b[49m\u001b[43mspectral_model\u001b[49m\u001b[38;5;241;43m=\u001b[39;49m\u001b[38;5;124;43m'\u001b[39;49m\u001b[38;5;124;43mno_loss\u001b[39;49m\u001b[38;5;124;43m'\u001b[39;49m\u001b[43m)\u001b[49m\n\u001b[0;32m     73\u001b[0m mc\u001b[38;5;241m.\u001b[39mrun_model(\u001b[38;5;28mself\u001b[39m\u001b[38;5;241m.\u001b[39mread_weather())\n\u001b[0;32m     74\u001b[0m \u001b[38;5;28;01mreturn\u001b[39;00m mc\n",
      "\u001b[1;31mTypeError\u001b[0m: ModelChain.__init__() got an unexpected keyword argument 'orientation_strategy'"
     ]
    }
   ],
   "source": [
    "v_kpv, v_ac, v_power, v_time =  kpv.range_calc_KPV(ori_data=ori_data, start=0, end=len(ori_data))"
   ]
  },
  {
   "cell_type": "code",
   "execution_count": null,
   "metadata": {
    "collapsed": true
   },
   "outputs": [],
   "source": [
    "v_kpv, v_ac, v_power, v_time =  kpv.range_calc_KPV(ori_data=ori_data, start=0, end=len(ori_data))"
   ]
  },
  {
   "cell_type": "code",
   "execution_count": null,
   "metadata": {},
   "outputs": [],
   "source": [
    "kpv.plot_clr(power=v_power, pltac=v_ac, tmp_time=v_time, start=0, end=len(ori_data))"
   ]
  },
  {
   "cell_type": "code",
   "execution_count": null,
   "metadata": {},
   "outputs": [],
   "source": [
    "kpv.plot_kpv(K_pv=v_kpv, tmp_time=v_time, start=0, end=len(ori_data))"
   ]
  },
  {
   "cell_type": "code",
   "execution_count": null,
   "metadata": {},
   "outputs": [],
   "source": []
  },
  {
   "cell_type": "code",
   "execution_count": null,
   "metadata": {},
   "outputs": [],
   "source": []
  },
  {
   "cell_type": "code",
   "execution_count": null,
   "metadata": {},
   "outputs": [],
   "source": []
  },
  {
   "cell_type": "code",
   "execution_count": null,
   "metadata": {},
   "outputs": [],
   "source": []
  }
 ],
 "metadata": {
  "kernelspec": {
   "display_name": "base",
   "language": "python",
   "name": "python3"
  },
  "language_info": {
   "codemirror_mode": {
    "name": "ipython",
    "version": 3
   },
   "file_extension": ".py",
   "mimetype": "text/x-python",
   "name": "python",
   "nbconvert_exporter": "python",
   "pygments_lexer": "ipython3",
   "version": "3.12.5"
  }
 },
 "nbformat": 4,
 "nbformat_minor": 2
}
